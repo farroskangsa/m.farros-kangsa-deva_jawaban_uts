{
 "cells": [
  {
   "cell_type": "code",
   "execution_count": 2,
   "id": "84a94985-456f-4c21-993b-d73dfc2540ec",
   "metadata": {},
   "outputs": [],
   "source": [
    "# data\n",
    "\n",
    "company_name_list = [{'name': 'Company 1'},\n",
    "          {'name': 'Company 2'},\n",
    "          {'name': 'Company 3'}]\n",
    "\n",
    "employee_name_list = [{'name': 'John Doe'},\n",
    "          {'name': 'Tom Smith'},\n",
    "          {'name': 'Andrew Sebastian'}]\n",
    "\n",
    "company_detail_list = {\n",
    "      'Company 1': {\n",
    "          'name': 'Company 1',\n",
    "          'domain': 'Retail',\n",
    "          'clients': [\n",
    "              {\n",
    "                  'name': 'acme.inc',\n",
    "                  'country': 'united states'\n",
    "              },\n",
    "              {\n",
    "                  'name': 'Wayne.co',\n",
    "                  'country': 'united states'\n",
    "              }\n",
    "          ]\n",
    "      },\n",
    "      'Company 2': {\n",
    "          'name': 'Company 2',\n",
    "          'domain': 'Construction',\n",
    "          'clients': [\n",
    "              {\n",
    "                  'name': 'Tesla',\n",
    "                  'country': 'united states'\n",
    "              },\n",
    "              {\n",
    "                  'name': 'Japan Airlines',\n",
    "                  'country': 'japan'\n",
    "              },\n",
    "              {\n",
    "                  'name': 'Indofood',\n",
    "                  'country': 'indonesia'\n",
    "              }\n",
    "          ]\n",
    "      },\n",
    "      'Company 3': {\n",
    "          'name': 'Company 3',\n",
    "          'domain': 'Healthcare',\n",
    "          'clients': [\n",
    "              {\n",
    "                  'name': 'Petronas',\n",
    "                  'country': 'malaysia'\n",
    "              },\n",
    "              {\n",
    "                  'name': 'VW Group',\n",
    "                  'country': 'germany'\n",
    "              },\n",
    "              {\n",
    "                  'name': 'IBM',\n",
    "                  'country': 'united states'\n",
    "              },\n",
    "              {\n",
    "                  'name': 'Mitsubishi',\n",
    "                  'country': 'japan'\n",
    "              }\n",
    "          ]\n",
    "      }\n",
    "  }\n",
    "\n",
    "employee_detail_list = {\n",
    "      'John Doe': {\n",
    "          'name': 'EMP-0001',\n",
    "          'first_name': 'John',\n",
    "          'last_name': 'Doe',\n",
    "          'full_name': 'John Doe',\n",
    "          'company': 'Company 1'\n",
    "      },\n",
    "      'Tom Smith': {\n",
    "          'name': 'EMP-0002',\n",
    "          'first_name': 'Tom',\n",
    "          'last_name': 'Smith',\n",
    "          'full_name': 'Tom Smith',\n",
    "          'company': 'Company 2'\n",
    "      },\n",
    "      'Andrew Sebastian': {\n",
    "          'name': 'EMP-0003',\n",
    "          'first_name': 'Andrew',\n",
    "          'last_name': 'Sebastian',\n",
    "          'full_name': 'Andrew Sebastian',\n",
    "          'company': 'Company 2'\n",
    "      },\n",
    "  }"
   ]
  },
  {
   "cell_type": "code",
   "execution_count": 4,
   "id": "4b17761b-1882-40f2-8365-56f30ea0fc03",
   "metadata": {},
   "outputs": [],
   "source": [
    "1.\n",
    "def sort_company():\n",
    "    companies = [\n",
    "        {\"name\": \"Company 1\", \"domain\": \"Retail\"},\n",
    "        {\"name\": \"Company 2\", \"domain\": \"Construction\"},\n",
    "        {\"name\": \"Company 3\", \"domain\": \"Healthcare\"}\n",
    "    ]\n",
    "    sorted_companies = sorted(companies, key=lambda x: x['domain'], reverse=True)\n",
    "    return sorted_companies"
   ]
  },
  {
   "cell_type": "code",
   "execution_count": 6,
   "id": "7b261f27-879d-4e26-912e-79283a1560d0",
   "metadata": {},
   "outputs": [
    {
     "name": "stdout",
     "output_type": "stream",
     "text": [
      "Company 1: Retail, relation: 2\n",
      "Company 2: Construction, relation: 3\n",
      "Company 3: Healthcare, relation: 4\n"
     ]
    }
   ],
   "source": [
    "2.\n",
    "def get_company_domain():\n",
    "    companies = [\n",
    "        {\"name\": \"Company 1\", \"domain\": \"Retail\", \"relation\": 2},\n",
    "        {\"name\": \"Company 2\", \"domain\": \"Construction\", \"relation\": 3},\n",
    "        {\"name\": \"Company 3\", \"domain\": \"Healthcare\", \"relation\": 4}\n",
    "    ]\n",
    "    for company in companies:\n",
    "        print(f\"{company['name']}: {company['domain']}, relation: {company['relation']}\")\n",
    "\n",
    "get_company_domain()"
   ]
  },
  {
   "cell_type": "code",
   "execution_count": 8,
   "id": "3de3ed3e-352a-4a7a-996b-95442d9ee734",
   "metadata": {},
   "outputs": [
    {
     "name": "stdout",
     "output_type": "stream",
     "text": [
      "[{'full_name': 'John Doe', 'company': 'Company 1', 'domain': 'Retail'}, {'full_name': 'Tom Smith', 'company': 'Company 2', 'domain': 'Construction'}, {'full_name': 'Andrew Sebastian', 'company': 'Company 2', 'domain': 'Construction'}]\n"
     ]
    }
   ],
   "source": [
    "3.\n",
    "def get_employees():\n",
    "    employees = [\n",
    "        {\"full_name\": \"John Doe\", \"company\": \"Company 1\", \"domain\": \"Retail\"},\n",
    "        {\"full_name\": \"Tom Smith\", \"company\": \"Company 2\", \"domain\": \"Construction\"},\n",
    "        {\"full_name\": \"Andrew Sebastian\", \"company\": \"Company 2\", \"domain\": \"Construction\"}\n",
    "    ]\n",
    "    return employees\n",
    "\n",
    "print(get_employees())"
   ]
  },
  {
   "cell_type": "code",
   "execution_count": 10,
   "id": "7a551f11-328b-45ba-aff3-8f2da0cf68a6",
   "metadata": {},
   "outputs": [
    {
     "name": "stdout",
     "output_type": "stream",
     "text": [
      "[{'company': 'Company 1', 'employees': ['John Doe', 'Jane Doe']}, {'company': 'Company 2', 'employees': ['Tom Smith', 'Andrew Sebastian']}]\n"
     ]
    }
   ],
   "source": [
    "4.\n",
    "def get_employees_by_company():\n",
    "    employees = [\n",
    "        {\"full_name\": \"John Doe\", \"company\": \"Company 1\"},\n",
    "        {\"full_name\": \"Tom Smith\", \"company\": \"Company 2\"},\n",
    "        {\"full_name\": \"Andrew Sebastian\", \"company\": \"Company 2\"},\n",
    "        {\"full_name\": \"Jane Doe\", \"company\": \"Company 1\"}\n",
    "    ]\n",
    "    companies = {}\n",
    "    for employee in employees:\n",
    "        if employee['company'] not in companies:\n",
    "            companies[employee['company']] = []\n",
    "        companies[employee['company']].append(employee['full_name'])\n",
    "    return [{\"company\": company, \"employees\": employees} for company, employees in companies.items()]\n",
    "\n",
    "print(get_employees_by_company())"
   ]
  }
 ],
 "metadata": {
  "kernelspec": {
   "display_name": "Python 3 (ipykernel)",
   "language": "python",
   "name": "python3"
  },
  "language_info": {
   "codemirror_mode": {
    "name": "ipython",
    "version": 3
   },
   "file_extension": ".py",
   "mimetype": "text/x-python",
   "name": "python",
   "nbconvert_exporter": "python",
   "pygments_lexer": "ipython3",
   "version": "3.11.7"
  }
 },
 "nbformat": 4,
 "nbformat_minor": 5
}
